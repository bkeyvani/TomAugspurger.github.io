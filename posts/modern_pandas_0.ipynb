{
 "cells": [
  {
   "cell_type": "markdown",
   "metadata": {},
   "source": [
    "There's been some rumblings recently that [pandas](pandas.pydata.org) has grown to be too large, too complex of a library.\n",
    "\n",
    "<blockquote class=\"twitter-tweet\" lang=\"en\"><p>Introducing Apache Spark 1.3 <a href=\"https://t.co/Kk3ykG1XwI\">https://t.co/Kk3ykG1XwI</a> with an API &quot;inspired by, and fully interoperable with, Pandas dataframes.&quot;</p>&mdash; Andrew Montalenti (@amontalenti) <a href=\"https://twitter.com/amontalenti/status/576555856155811840\">March 14, 2015</a></blockquote> <script async src=\"//platform.twitter.com/widgets.js\" charset=\"utf-8\"></script>\n",
    "\n",
    "<blockquote class=\"twitter-tweet\" lang=\"en\"><p><a href=\"https://twitter.com/amontalenti\">@amontalenti</a> Which is good or bad, depending on your view of the Pandas API, I guess.</p>&mdash; Tim Hopper (@tdhopper) <a href=\"https://twitter.com/tdhopper/status/576571966234214400\">March 14, 2015</a></blockquote> <script async src=\"//platform.twitter.com/widgets.js\" charset=\"utf-8\"></script>\n",
    "\n",
    "I've heard similar sentiments from others in online and offline conversations about pandas. It's a remarkably capable library. Browse through the [pandas tag](http://stackoverflow.com/questions/tagged/pandas) on Stack Overflow and you'll see this on display.\n",
    "\n",
    "Which brings us to the point of this series: how's a beginner to learn pandas? The prose documentation is fantastic, but at over 30,000 lines it's not something to just sit down and work through. I view it as a secondary source once you become familiar with the basic. Wes' [Python for Data Analysis](http://shop.oreilly.com/product/0636920023784.do) is still my numerber one recommendation for people new to the PyData ecosystem; but at 3 years old it misses some things.\n",
    "\n",
    "### Outline\n",
    "\n",
    "0. Pontificating (this document)\n",
    "1. Setup\n",
    "2. Data Structures\n",
    "3. data-flow\n",
    "\n",
    "...\n",
    "\n",
    "n. Plotting\n",
    "n+1 Indexes\n",
    "\n",
    "### Setup\n",
    "\n",
    "[Use conda](http://conda.pydata.org). Either `miniconda` if you're a minimalist like me, or the full Anaconda distribution if you like things to be easy. `conda` will take care of managing environments so you can have multiple installations of python and manages all the packages within each environment. To make sure you're ready for this, just call\n",
    "\n",
    "```bash\n",
    "conda create -n py3 python=3.4 pandas ipython ipython-notebook seaborn\n",
    "```\n",
    "\n",
    "Pretty easy."
   ]
  },
  {
   "cell_type": "markdown",
   "metadata": {},
   "source": [
    "### Data Structures\n",
    "\n",
    "pandas has two main Data structures you need to worry about. `DataFrame` and `Series`.\n",
    "\n",
    "`DataFrame`s are for 2-dimensional, tabular data. These contain your data and define a ton of useful methods.\n",
    "\n",
    "`Series` are the 1-dimensional version of DataFrames. Why the distinction? Certain methods only make sense on a 1-dimensional structure.\n"
   ]
  },
  {
   "cell_type": "code",
   "execution_count": null,
   "metadata": {
    "collapsed": true
   },
   "outputs": [],
   "source": []
  }
 ],
 "metadata": {
  "kernelspec": {
   "display_name": "Python 3",
   "language": "python",
   "name": "python3"
  },
  "language_info": {
   "codemirror_mode": {
    "name": "ipython",
    "version": 3
   },
   "file_extension": ".py",
   "mimetype": "text/x-python",
   "name": "python",
   "nbconvert_exporter": "python",
   "pygments_lexer": "ipython3",
   "version": "3.4.3"
  }
 },
 "nbformat": 4,
 "nbformat_minor": 0
}
